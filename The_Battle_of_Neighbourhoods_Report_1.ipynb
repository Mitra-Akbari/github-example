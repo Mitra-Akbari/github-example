{
 "cells": [
  {
   "cell_type": "markdown",
   "metadata": {},
   "source": [
    "# Capstone Project - The Battle of Neighborhoods\n",
    "# Italian Restaurant in Toronto"
   ]
  },
  {
   "cell_type": "markdown",
   "metadata": {},
   "source": [
    "## Introduction: Business Problem\n",
    "\n",
    "Toronto is the most populous city in Canada, with a population of 2,731,571 in 2016. [1] Toronto is ethnically diverse and multicultural. Lots of immigrants with different backgrounds live in Toronto, and they bring their ethnic cuisine to this city such as Italian, Asian, Greek and etc. [2]\n",
    " \n",
    "In this project, we explore the best locations for Italian restaurants in Toronto. Italian food is one of the most popular cuisine in the world. Just the North America pasta market reached a volume of nearly 3 Million Tons in 2018.[3] \n",
    "\n",
    "This report investigates which neighborhoods and boroughs of Toronto have the best and also highest number of Italian restaurants. Furthermore, this report will answer the questions *“Which Neighborhood have potential Italian restaurant Market?”,  “Where would I go in Toronto to have the best Italian food?”, and \"Which areas dose not have any Italian restaurants\"*\n"
   ]
  },
  {
   "cell_type": "markdown",
   "metadata": {},
   "source": [
    "## Data\n",
    "\n",
    "Following data sources will be needed to extract/generate the required information:\n",
    "\n",
    "\n",
    "* Toronto data contains list of Boroughs, Neighborhoods and postcodes. We will use this data set to explore various neighborhoods of Toronto. Obtained from https://en.wikipedia.org/wiki/List_of_postal_codes_of_Canada:_M\n",
    "\n",
    "\n",
    "* Additional data including longitude and latitude for each postcode will be obtained from http://cocl.us/Geospatial_data \n",
    "  \n",
    "\n",
    "* All data related to locations and quality of Italian restaurants in Toronto will be obtained via the **Foursquare API** \n"
   ]
  },
  {
   "cell_type": "markdown",
   "metadata": {},
   "source": [
    "# Methodology\n",
    "\n",
    "The first step is to get required data about Toronto, which is available on Wikipedia. By using BeautifulSoup, the data  will be extracted from wikipedia and then transfered to dataframe. Next, additional data including post Code, longitude and latitude will be obtained from http://cocl.us/Geospatial_data and transfered to another dataframe. Eventually two dataframes will be attached at the mutual column.\n",
    "\n",
    "By using FourSquare API, all venues for each Neighborhood can be transfered to dataframe. By filtering these data, Italian restaurants will be listed. In addition, the count of tips and likes, and rating is obtained by FourSquare API and transfered to dataframe. We will have the average rating for each Neighbourhood and borough, and visualize the ranking of neighborhoods using folium library."
   ]
  },
  {
   "cell_type": "markdown",
   "metadata": {},
   "source": [
    "# Results & Discussion\n",
    "\n",
    "\n",
    "The following table includes the dataset of 103 Neigborhoods in Toronto. The largest number of Neigborhoods in each Borough is in North York"
   ]
  },
  {
   "cell_type": "code",
   "execution_count": 17,
   "metadata": {},
   "outputs": [
    {
     "data": {
      "text/plain": [
       "(103, 4)"
      ]
     },
     "execution_count": 17,
     "metadata": {},
     "output_type": "execute_result"
    }
   ],
   "source": [
    "import pandas as pd\n",
    "toronto_data_csv=pd.read_csv('toronto_data_csv.csv')\n",
    "toronto_data_csv.shape"
   ]
  },
  {
   "cell_type": "code",
   "execution_count": 18,
   "metadata": {},
   "outputs": [
    {
     "data": {
      "text/html": [
       "<div>\n",
       "<style scoped>\n",
       "    .dataframe tbody tr th:only-of-type {\n",
       "        vertical-align: middle;\n",
       "    }\n",
       "\n",
       "    .dataframe tbody tr th {\n",
       "        vertical-align: top;\n",
       "    }\n",
       "\n",
       "    .dataframe thead th {\n",
       "        text-align: right;\n",
       "    }\n",
       "</style>\n",
       "<table border=\"1\" class=\"dataframe\">\n",
       "  <thead>\n",
       "    <tr style=\"text-align: right;\">\n",
       "      <th></th>\n",
       "      <th>Borough</th>\n",
       "      <th>Neighborhood</th>\n",
       "      <th>Latitude</th>\n",
       "      <th>Longitude</th>\n",
       "    </tr>\n",
       "  </thead>\n",
       "  <tbody>\n",
       "    <tr>\n",
       "      <th>0</th>\n",
       "      <td>North York</td>\n",
       "      <td>Parkwoods</td>\n",
       "      <td>43.753259</td>\n",
       "      <td>-79.329656</td>\n",
       "    </tr>\n",
       "    <tr>\n",
       "      <th>1</th>\n",
       "      <td>North York</td>\n",
       "      <td>Victoria Village</td>\n",
       "      <td>43.725882</td>\n",
       "      <td>-79.315572</td>\n",
       "    </tr>\n",
       "    <tr>\n",
       "      <th>2</th>\n",
       "      <td>Downtown Toronto</td>\n",
       "      <td>Regent Park, Harbourfront</td>\n",
       "      <td>43.654260</td>\n",
       "      <td>-79.360636</td>\n",
       "    </tr>\n",
       "    <tr>\n",
       "      <th>3</th>\n",
       "      <td>North York</td>\n",
       "      <td>Lawrence Manor, Lawrence Heights</td>\n",
       "      <td>43.718518</td>\n",
       "      <td>-79.464763</td>\n",
       "    </tr>\n",
       "    <tr>\n",
       "      <th>4</th>\n",
       "      <td>Downtown Toronto</td>\n",
       "      <td>Queen's Park, Ontario Provincial Government</td>\n",
       "      <td>43.662301</td>\n",
       "      <td>-79.389494</td>\n",
       "    </tr>\n",
       "  </tbody>\n",
       "</table>\n",
       "</div>"
      ],
      "text/plain": [
       "            Borough                                 Neighborhood   Latitude  \\\n",
       "0        North York                                    Parkwoods  43.753259   \n",
       "1        North York                             Victoria Village  43.725882   \n",
       "2  Downtown Toronto                    Regent Park, Harbourfront  43.654260   \n",
       "3        North York             Lawrence Manor, Lawrence Heights  43.718518   \n",
       "4  Downtown Toronto  Queen's Park, Ontario Provincial Government  43.662301   \n",
       "\n",
       "   Longitude  \n",
       "0 -79.329656  \n",
       "1 -79.315572  \n",
       "2 -79.360636  \n",
       "3 -79.464763  \n",
       "4 -79.389494  "
      ]
     },
     "execution_count": 18,
     "metadata": {},
     "output_type": "execute_result"
    }
   ],
   "source": [
    "toronto_data_csv.head()"
   ]
  },
  {
   "cell_type": "markdown",
   "metadata": {},
   "source": [
    "<img src= \"NB.png\" style=\"width:900px;height:600px\"/>"
   ]
  },
  {
   "cell_type": "markdown",
   "metadata": {},
   "source": [
    "According to API data, there are 105 Italian restaurants in Toronto. In the following table, you can see the name of Italian restaurants in each Neighborhood and Borough."
   ]
  },
  {
   "cell_type": "code",
   "execution_count": 19,
   "metadata": {},
   "outputs": [
    {
     "data": {
      "text/plain": [
       "(105, 4)"
      ]
     },
     "execution_count": 19,
     "metadata": {},
     "output_type": "execute_result"
    }
   ],
   "source": [
    "italian_rest_t_csv=pd.read_csv('italian_rest_t_csv.csv')\n",
    "italian_rest_t_csv.shape"
   ]
  },
  {
   "cell_type": "code",
   "execution_count": 20,
   "metadata": {},
   "outputs": [
    {
     "data": {
      "text/html": [
       "<div>\n",
       "<style scoped>\n",
       "    .dataframe tbody tr th:only-of-type {\n",
       "        vertical-align: middle;\n",
       "    }\n",
       "\n",
       "    .dataframe tbody tr th {\n",
       "        vertical-align: top;\n",
       "    }\n",
       "\n",
       "    .dataframe thead th {\n",
       "        text-align: right;\n",
       "    }\n",
       "</style>\n",
       "<table border=\"1\" class=\"dataframe\">\n",
       "  <thead>\n",
       "    <tr style=\"text-align: right;\">\n",
       "      <th></th>\n",
       "      <th>Borough</th>\n",
       "      <th>Neighborhood</th>\n",
       "      <th>ID</th>\n",
       "      <th>Name</th>\n",
       "    </tr>\n",
       "  </thead>\n",
       "  <tbody>\n",
       "    <tr>\n",
       "      <th>0</th>\n",
       "      <td>Downtown Toronto</td>\n",
       "      <td>Regent Park / Harbourfront</td>\n",
       "      <td>4ad776eef964a520e20a21e3</td>\n",
       "      <td>Mangia and Bevi Resto-Bar</td>\n",
       "    </tr>\n",
       "    <tr>\n",
       "      <th>1</th>\n",
       "      <td>Downtown Toronto</td>\n",
       "      <td>Regent Park / Harbourfront</td>\n",
       "      <td>4cbdc6784495721ea262617a</td>\n",
       "      <td>Fusaro's</td>\n",
       "    </tr>\n",
       "    <tr>\n",
       "      <th>2</th>\n",
       "      <td>Downtown Toronto</td>\n",
       "      <td>Regent Park / Harbourfront</td>\n",
       "      <td>56d8dff7498eb4e5e661e78d</td>\n",
       "      <td>Ardo</td>\n",
       "    </tr>\n",
       "    <tr>\n",
       "      <th>3</th>\n",
       "      <td>Downtown Toronto</td>\n",
       "      <td>Queen's Park / Ontario Provincial Government</td>\n",
       "      <td>4a8355bff964a520d3fa1fe3</td>\n",
       "      <td>Mercatto</td>\n",
       "    </tr>\n",
       "    <tr>\n",
       "      <th>4</th>\n",
       "      <td>Downtown Toronto</td>\n",
       "      <td>Queen's Park / Ontario Provincial Government</td>\n",
       "      <td>5a69ba9112138476a91996f8</td>\n",
       "      <td>Dal Moro's Fresh Pasta To Go</td>\n",
       "    </tr>\n",
       "  </tbody>\n",
       "</table>\n",
       "</div>"
      ],
      "text/plain": [
       "            Borough                                  Neighborhood  \\\n",
       "0  Downtown Toronto                    Regent Park / Harbourfront   \n",
       "1  Downtown Toronto                    Regent Park / Harbourfront   \n",
       "2  Downtown Toronto                    Regent Park / Harbourfront   \n",
       "3  Downtown Toronto  Queen's Park / Ontario Provincial Government   \n",
       "4  Downtown Toronto  Queen's Park / Ontario Provincial Government   \n",
       "\n",
       "                         ID                          Name  \n",
       "0  4ad776eef964a520e20a21e3     Mangia and Bevi Resto-Bar  \n",
       "1  4cbdc6784495721ea262617a                      Fusaro's  \n",
       "2  56d8dff7498eb4e5e661e78d                          Ardo  \n",
       "3  4a8355bff964a520d3fa1fe3                      Mercatto  \n",
       "4  5a69ba9112138476a91996f8  Dal Moro's Fresh Pasta To Go  "
      ]
     },
     "execution_count": 20,
     "metadata": {},
     "output_type": "execute_result"
    }
   ],
   "source": [
    "italian_rest_t_csv.head()"
   ]
  },
  {
   "cell_type": "markdown",
   "metadata": {},
   "source": [
    "<img src= \"BR.png\" style=\"width:900px;height:600px\"/>"
   ]
  },
  {
   "cell_type": "markdown",
   "metadata": {},
   "source": [
    "Davisville in Central Toronto has the largest number (eight) of Italian restaurants."
   ]
  },
  {
   "cell_type": "markdown",
   "metadata": {},
   "source": [
    "<img src= \"NR.png\" style=\"width:900px;height:600px\"/>"
   ]
  },
  {
   "cell_type": "markdown",
   "metadata": {},
   "source": [
    "Then we need further information such as likes, rating and tips for each restaurant for additional analysis. The data will be transfered into dataframe and saved as csv file. "
   ]
  },
  {
   "cell_type": "code",
   "execution_count": 16,
   "metadata": {},
   "outputs": [
    {
     "data": {
      "text/html": [
       "<div>\n",
       "<style scoped>\n",
       "    .dataframe tbody tr th:only-of-type {\n",
       "        vertical-align: middle;\n",
       "    }\n",
       "\n",
       "    .dataframe tbody tr th {\n",
       "        vertical-align: top;\n",
       "    }\n",
       "\n",
       "    .dataframe thead th {\n",
       "        text-align: right;\n",
       "    }\n",
       "</style>\n",
       "<table border=\"1\" class=\"dataframe\">\n",
       "  <thead>\n",
       "    <tr style=\"text-align: right;\">\n",
       "      <th></th>\n",
       "      <th>Borough</th>\n",
       "      <th>Neighborhood</th>\n",
       "      <th>ID</th>\n",
       "      <th>Name</th>\n",
       "      <th>Likes</th>\n",
       "      <th>Rating</th>\n",
       "      <th>Tips</th>\n",
       "    </tr>\n",
       "  </thead>\n",
       "  <tbody>\n",
       "    <tr>\n",
       "      <th>0</th>\n",
       "      <td>Downtown Toronto</td>\n",
       "      <td>Regent Park / Harbourfront</td>\n",
       "      <td>4ad776eef964a520e20a21e3</td>\n",
       "      <td>Mangia and Bevi Resto-Bar</td>\n",
       "      <td>77</td>\n",
       "      <td>8.4</td>\n",
       "      <td>40</td>\n",
       "    </tr>\n",
       "    <tr>\n",
       "      <th>1</th>\n",
       "      <td>Downtown Toronto</td>\n",
       "      <td>Regent Park / Harbourfront</td>\n",
       "      <td>4cbdc6784495721ea262617a</td>\n",
       "      <td>Fusaro's</td>\n",
       "      <td>57</td>\n",
       "      <td>8.5</td>\n",
       "      <td>22</td>\n",
       "    </tr>\n",
       "    <tr>\n",
       "      <th>2</th>\n",
       "      <td>Downtown Toronto</td>\n",
       "      <td>Regent Park / Harbourfront</td>\n",
       "      <td>56d8dff7498eb4e5e661e78d</td>\n",
       "      <td>Ardo</td>\n",
       "      <td>15</td>\n",
       "      <td>7.4</td>\n",
       "      <td>8</td>\n",
       "    </tr>\n",
       "    <tr>\n",
       "      <th>3</th>\n",
       "      <td>Downtown Toronto</td>\n",
       "      <td>Queen's Park / Ontario Provincial Government</td>\n",
       "      <td>4a8355bff964a520d3fa1fe3</td>\n",
       "      <td>Mercatto</td>\n",
       "      <td>56</td>\n",
       "      <td>7.8</td>\n",
       "      <td>26</td>\n",
       "    </tr>\n",
       "    <tr>\n",
       "      <th>4</th>\n",
       "      <td>Downtown Toronto</td>\n",
       "      <td>Queen's Park / Ontario Provincial Government</td>\n",
       "      <td>5a69ba9112138476a91996f8</td>\n",
       "      <td>Dal Moro's Fresh Pasta To Go</td>\n",
       "      <td>9</td>\n",
       "      <td>8.2</td>\n",
       "      <td>6</td>\n",
       "    </tr>\n",
       "    <tr>\n",
       "      <th>5</th>\n",
       "      <td>Downtown Toronto</td>\n",
       "      <td>Garden District / Ryerson</td>\n",
       "      <td>4b49183ff964a520a46526e3</td>\n",
       "      <td>Terroni</td>\n",
       "      <td>278</td>\n",
       "      <td>8.1</td>\n",
       "      <td>95</td>\n",
       "    </tr>\n",
       "  </tbody>\n",
       "</table>\n",
       "</div>"
      ],
      "text/plain": [
       "            Borough                                  Neighborhood  \\\n",
       "0  Downtown Toronto                    Regent Park / Harbourfront   \n",
       "1  Downtown Toronto                    Regent Park / Harbourfront   \n",
       "2  Downtown Toronto                    Regent Park / Harbourfront   \n",
       "3  Downtown Toronto  Queen's Park / Ontario Provincial Government   \n",
       "4  Downtown Toronto  Queen's Park / Ontario Provincial Government   \n",
       "5  Downtown Toronto                     Garden District / Ryerson   \n",
       "\n",
       "                         ID                          Name  Likes  Rating  Tips  \n",
       "0  4ad776eef964a520e20a21e3     Mangia and Bevi Resto-Bar     77     8.4    40  \n",
       "1  4cbdc6784495721ea262617a                      Fusaro's     57     8.5    22  \n",
       "2  56d8dff7498eb4e5e661e78d                          Ardo     15     7.4     8  \n",
       "3  4a8355bff964a520d3fa1fe3                      Mercatto     56     7.8    26  \n",
       "4  5a69ba9112138476a91996f8  Dal Moro's Fresh Pasta To Go      9     8.2     6  \n",
       "5  4b49183ff964a520a46526e3                       Terroni    278     8.1    95  "
      ]
     },
     "execution_count": 16,
     "metadata": {},
     "output_type": "execute_result"
    }
   ],
   "source": [
    "italian_details_csv=pd.read_csv('italian_details_csv.csv')\n",
    "italian_details_csv.head(6)"
   ]
  },
  {
   "cell_type": "markdown",
   "metadata": {},
   "source": [
    "Based on  above table, we can find out the following information:  \n",
    "1- The most number of likes (275 times) belongs to Terroni in  Garden District / Ryerson in     Downtown Toronto   \n",
    "2- The highest rating Italian restaurant is Nodo in High Park / The Junction South in West Toronto (rating=9).   \n",
    "3- The maximum tips belongs to  Terroni in Garden District / Ryerson in Downtown Toronto with 95 tips.   "
   ]
  },
  {
   "cell_type": "markdown",
   "metadata": {},
   "source": [
    "All restaurants are grouped by Neighborhood, and showed the average Rating for each Neighborhood. Italian restaurants in New Toronto / Mimico South / Humber Bay Shores has the highest average Rating (8.7/10)"
   ]
  },
  {
   "cell_type": "markdown",
   "metadata": {},
   "source": [
    "Next all restaurants are grouped by Borough, and showed the average Rating for each Borough. Italian restaurants in Downtown Toronto has the highest average Rating (8.1/10)"
   ]
  },
  {
   "cell_type": "markdown",
   "metadata": {},
   "source": [
    "<img src= \"BRA.png\" style=\"width:900px;height:600px\"/>"
   ]
  },
  {
   "cell_type": "markdown",
   "metadata": {},
   "source": [
    "The Neighborhood with average rating of 8.5 or higher is filtered, and merged to Toronto dataframe. By means of merged dataframe and Folium library, we can see the two Neighborhoods with highest average Rating."
   ]
  },
  {
   "cell_type": "markdown",
   "metadata": {},
   "source": [
    "<img src= \"table.png\" style=\"width:900px;height:600px\"/>"
   ]
  },
  {
   "cell_type": "markdown",
   "metadata": {},
   "source": [
    "<img src= \"Screenshot.png\">"
   ]
  },
  {
   "cell_type": "markdown",
   "metadata": {},
   "source": [
    "# Conclusion\n",
    "\n",
    "Davisville (Downtown Toronto) has the most number of italian restaurants in Toronto. New Toronto (Etobicoke), St. James Town(Downtown Toronto), Little Portugal (West Toronto) are some of the best neighborhoods for Italian cuisine in Toronto. Downtown Toronto have potential Italian Resturant Market, there are multiple neighborhoods in Downtown Toronto with average ratings exceeding 8.1. East Park ranks last in average rating (0 from 10) of Italian restaurants. It might be as a result of limitation of data providing only by Foursquare. In addition, I would go to Terroni in Downtown Toronto for the best Italian food based on 278 likes and Rating of 8.1. Downtown Toronto and West Toronto are the best place to stay if you prefer Italian Cuisine."
   ]
  },
  {
   "cell_type": "markdown",
   "metadata": {},
   "source": [
    "# Rerefrences\n",
    "[1] https://en.wikipedia.org/wiki/Toronto   \n",
    "[2] https://en.wikipedia.org/wiki/Cuisine_in_Toronto   \n",
    "[3] https://www.imarcgroup.com/north-america-pasta-market   "
   ]
  },
  {
   "cell_type": "code",
   "execution_count": null,
   "metadata": {},
   "outputs": [],
   "source": []
  }
 ],
 "metadata": {
  "kernelspec": {
   "display_name": "Python",
   "language": "python",
   "name": "conda-env-python-py"
  },
  "language_info": {
   "codemirror_mode": {
    "name": "ipython",
    "version": 3
   },
   "file_extension": ".py",
   "mimetype": "text/x-python",
   "name": "python",
   "nbconvert_exporter": "python",
   "pygments_lexer": "ipython3",
   "version": "3.6.10"
  }
 },
 "nbformat": 4,
 "nbformat_minor": 4
}
