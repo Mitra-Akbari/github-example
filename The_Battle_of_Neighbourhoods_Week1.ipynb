{
 "cells": [
  {
   "cell_type": "markdown",
   "metadata": {},
   "source": [
    "# Capstone Project - The Battle of Neighborhoods\n",
    "# Italian Restaurant in Toronto"
   ]
  },
  {
   "cell_type": "markdown",
   "metadata": {},
   "source": [
    "## Introduction: Business Problem\n",
    "\n",
    "Toronto is the most populous city in Canada, with a population of 2,731,571 in 2016. [1] Toronto is ethnically diverse and multicultural. Lots of immigrants with different backgrounds live in Toronto, and they bring their ethnic cuisine to this city such as Italian, Asian, Greek and etc. [2]\n",
    " \n",
    "In this project, we explore the best locations for Italian restaurants in Toronto. Italian food is one of the most popular cuisine in the world. Just the North America pasta market reached a volume of nearly 3 Million Tons in 2018.[3] \n",
    "\n",
    "This report investigates which neighborhoods and boroughs of Toronto have the best and also highest number of Italian restaurants. Furthermore, this report will answer the questions *“Which Neighborhood have potential Italian restaurant Market?”,  “Where would I go in Toronto to have the best Italian food?”, and \"Which areas dose not have any Italian restaurants\"*\n"
   ]
  },
  {
   "cell_type": "markdown",
   "metadata": {},
   "source": [
    "## Data\n",
    "\n",
    "Following data sources will be needed to extract/generate the required information:\n",
    "\n",
    "\n",
    "* Toronto data contains list of Boroughs, Neighborhoods and postcodes. We will use this data set to explore various neighborhoods of Toronto. Obtained from https://en.wikipedia.org/wiki/List_of_postal_codes_of_Canada:_M\n",
    "\n",
    "\n",
    "* Additional data including longitude and latitude for each postcode will be obtained from http://cocl.us/Geospatial_data \n",
    "  \n",
    "\n",
    "* All data related to locations and quality of Italian restaurants in Toronto will be obtained via the **Foursquare API** \n"
   ]
  },
  {
   "cell_type": "markdown",
   "metadata": {},
   "source": [
    "# Methodology\n",
    "\n",
    "The first step is to get required data about Toronto, which is available on Wikipedia. By using BeautifulSoup, the data  will be extracted from wikipedia and then transfered to dataframe. Next, additional data including post Code, longitude and latitude will be obtained from http://cocl.us/Geospatial_data and transfered to another dataframe. Eventually two dataframes will be attached at the mutual column.\n",
    "\n",
    "\n"
   ]
  },
  {
   "cell_type": "markdown",
   "metadata": {},
   "source": [
    "# Rerefrences\n",
    "[1] https://en.wikipedia.org/wiki/Toronto   \n",
    "[2] https://en.wikipedia.org/wiki/Cuisine_in_Toronto   \n",
    "[3] https://www.imarcgroup.com/north-america-pasta-market   "
   ]
  },
  {
   "cell_type": "code",
   "execution_count": null,
   "metadata": {},
   "outputs": [],
   "source": []
  }
 ],
 "metadata": {
  "kernelspec": {
   "display_name": "Python",
   "language": "python",
   "name": "conda-env-python-py"
  },
  "language_info": {
   "codemirror_mode": {
    "name": "ipython",
    "version": 3
   },
   "file_extension": ".py",
   "mimetype": "text/x-python",
   "name": "python",
   "nbconvert_exporter": "python",
   "pygments_lexer": "ipython3",
   "version": "3.6.10"
  }
 },
 "nbformat": 4,
 "nbformat_minor": 4
}
